{
  "nbformat": 4,
  "nbformat_minor": 0,
  "metadata": {
    "colab": {
      "provenance": [],
      "toc_visible": true,
      "authorship_tag": "ABX9TyPiTYVVyScQEDqNzfYcNegR",
      "include_colab_link": true
    },
    "kernelspec": {
      "name": "python3",
      "display_name": "Python 3"
    },
    "language_info": {
      "name": "python"
    }
  },
  "cells": [
    {
      "cell_type": "markdown",
      "metadata": {
        "id": "view-in-github",
        "colab_type": "text"
      },
      "source": [
        "<a href=\"https://colab.research.google.com/github/weeebdev/ds509/blob/master/HA1.ipynb\" target=\"_parent\"><img src=\"https://colab.research.google.com/assets/colab-badge.svg\" alt=\"Open In Colab\"/></a>"
      ]
    },
    {
      "cell_type": "code",
      "execution_count": 1,
      "metadata": {
        "id": "t1GCAlqDBY1z"
      },
      "outputs": [],
      "source": [
        "# !git clone --recurse-submodules https://github.com/getalp/wikIR.git\n",
        "# !pip install -r ./wikIR/requirements.txt\n",
        "# !pip install git+https://github.com/dorianbrown/rank_bm25.git\n",
        "# !git clone https://github.com/NTMC-Community/MatchZoo.git\n",
        "# !cd MatchZoo && python ./setup.py install\n",
        "# !cd wikIR && python wikiextractor/WikiExtractor.py input --output - --bytes 100G --links --quiet --json > output.json"
      ]
    },
    {
      "cell_type": "code",
      "source": [
        "!pip3 install zenodo_get"
      ],
      "metadata": {
        "colab": {
          "base_uri": "https://localhost:8080/"
        },
        "id": "5kp8quVlBlle",
        "outputId": "477365c9-f6a6-48e8-8a76-7a1791b60226"
      },
      "execution_count": 2,
      "outputs": [
        {
          "output_type": "stream",
          "name": "stdout",
          "text": [
            "Looking in indexes: https://pypi.org/simple, https://us-python.pkg.dev/colab-wheels/public/simple/\n",
            "Collecting zenodo_get\n",
            "  Downloading zenodo_get-1.3.4-py2.py3-none-any.whl (17 kB)\n",
            "Collecting wget\n",
            "  Downloading wget-3.2.zip (10 kB)\n",
            "  Preparing metadata (setup.py) ... \u001b[?25l\u001b[?25hdone\n",
            "Requirement already satisfied: requests in /usr/local/lib/python3.8/dist-packages (from zenodo_get) (2.25.1)\n",
            "Requirement already satisfied: idna<3,>=2.5 in /usr/local/lib/python3.8/dist-packages (from requests->zenodo_get) (2.10)\n",
            "Requirement already satisfied: urllib3<1.27,>=1.21.1 in /usr/local/lib/python3.8/dist-packages (from requests->zenodo_get) (1.24.3)\n",
            "Requirement already satisfied: chardet<5,>=3.0.2 in /usr/local/lib/python3.8/dist-packages (from requests->zenodo_get) (4.0.0)\n",
            "Requirement already satisfied: certifi>=2017.4.17 in /usr/local/lib/python3.8/dist-packages (from requests->zenodo_get) (2022.12.7)\n",
            "Building wheels for collected packages: wget\n",
            "  Building wheel for wget (setup.py) ... \u001b[?25l\u001b[?25hdone\n",
            "  Created wheel for wget: filename=wget-3.2-py3-none-any.whl size=9674 sha256=533c310c4c941327c4104342dfb7bd8a8e8d10fd56d331ff962bb3c2ba0c8f63\n",
            "  Stored in directory: /root/.cache/pip/wheels/bd/a8/c3/3cf2c14a1837a4e04bd98631724e81f33f462d86a1d895fae0\n",
            "Successfully built wget\n",
            "Installing collected packages: wget, zenodo_get\n",
            "Successfully installed wget-3.2 zenodo_get-1.3.4\n"
          ]
        }
      ]
    },
    {
      "cell_type": "code",
      "source": [
        "!zenodo_get 10.5281/zenodo.3565761"
      ],
      "metadata": {
        "colab": {
          "base_uri": "https://localhost:8080/"
        },
        "id": "orLToOPfCegD",
        "outputId": "d080dac6-e356-4219-fa96-81a2d4e6c961"
      },
      "execution_count": 3,
      "outputs": [
        {
          "output_type": "stream",
          "name": "stdout",
          "text": [
            "Title: ENwikIR1k\n",
            "Keywords: \n",
            "Publication date: 2019-11-18\n",
            "DOI: 10.5281/zenodo.3565761\n",
            "Total size: 157.4 MB\n",
            "\n",
            "Link: https://zenodo.org/api/files/3cb30747-c60b-47b2-b3a3-33f546356f99/wikIR1k.zip   size: 157.4 MB\n",
            "\n",
            "Checksum is correct. (554299bca984640cb283d6ba55753608)\n",
            "All files have been downloaded.\n"
          ]
        }
      ]
    },
    {
      "cell_type": "code",
      "source": [
        "!unzip wikIR1k.zip"
      ],
      "metadata": {
        "id": "OIQ7jc8PCpOU",
        "colab": {
          "base_uri": "https://localhost:8080/"
        },
        "outputId": "8e277f46-90c9-425d-a72e-15cc8636c6c5"
      },
      "execution_count": 4,
      "outputs": [
        {
          "output_type": "stream",
          "name": "stdout",
          "text": [
            "Archive:  wikIR1k.zip\n",
            "   creating: wikIR1k/\n",
            "  inflating: wikIR1k/documents.csv   \n",
            "   creating: wikIR1k/training/\n",
            "  inflating: wikIR1k/training/queries.csv  \n",
            "  inflating: wikIR1k/training/qrels  \n",
            "  inflating: wikIR1k/training/BM25.res  \n",
            "  inflating: wikIR1k/training/BM25.qrels.csv  \n",
            "  inflating: wikIR1k/training/BM25.metrics.json  \n",
            "   creating: wikIR1k/validation/\n",
            "  inflating: wikIR1k/validation/queries.csv  \n",
            "  inflating: wikIR1k/validation/qrels  \n",
            "  inflating: wikIR1k/validation/BM25.res  \n",
            "  inflating: wikIR1k/validation/BM25.qrels.csv  \n",
            "  inflating: wikIR1k/validation/BM25.metrics.json  \n",
            "   creating: wikIR1k/test/\n",
            "  inflating: wikIR1k/test/queries.csv  \n",
            "  inflating: wikIR1k/test/qrels      \n",
            "  inflating: wikIR1k/test/BM25.res   \n",
            "  inflating: wikIR1k/test/BM25.qrels.csv  \n",
            "  inflating: wikIR1k/test/BM25.metrics.json  \n"
          ]
        }
      ]
    },
    {
      "cell_type": "code",
      "source": [
        "!wget \"https://gist.githubusercontent.com/sebleier/554280/raw/7e0e4a1ce04c2bb7bd41089c9821dbcf6d0c786c/NLTK's%2520list%2520of%2520english%2520stopwords\""
      ],
      "metadata": {
        "colab": {
          "base_uri": "https://localhost:8080/"
        },
        "id": "SNT5dOQbELmP",
        "outputId": "ceeb8eae-59fc-48b3-87ac-daf655a1c073"
      },
      "execution_count": 5,
      "outputs": [
        {
          "output_type": "stream",
          "name": "stdout",
          "text": [
            "--2023-01-31 05:22:26--  https://gist.githubusercontent.com/sebleier/554280/raw/7e0e4a1ce04c2bb7bd41089c9821dbcf6d0c786c/NLTK's%2520list%2520of%2520english%2520stopwords\n",
            "Resolving gist.githubusercontent.com (gist.githubusercontent.com)... 185.199.108.133, 185.199.109.133, 185.199.110.133, ...\n",
            "Connecting to gist.githubusercontent.com (gist.githubusercontent.com)|185.199.108.133|:443... connected.\n",
            "HTTP request sent, awaiting response... 200 OK\n",
            "Length: 622 [text/plain]\n",
            "Saving to: ‘NLTK's list of english stopwords’\n",
            "\n",
            "\r          NLTK's li   0%[                    ]       0  --.-KB/s               \rNLTK's list of engl 100%[===================>]     622  --.-KB/s    in 0s      \n",
            "\n",
            "2023-01-31 05:22:26 (44.1 MB/s) - ‘NLTK's list of english stopwords’ saved [622/622]\n",
            "\n"
          ]
        }
      ]
    },
    {
      "cell_type": "code",
      "source": [
        "!head -5 ./wikIR1k/documents.csv"
      ],
      "metadata": {
        "colab": {
          "base_uri": "https://localhost:8080/"
        },
        "id": "ZVeiAx4ZHyDW",
        "outputId": "d690405d-fa52-4c81-ac2a-9a99a01c4cc0"
      },
      "execution_count": 6,
      "outputs": [
        {
          "output_type": "stream",
          "name": "stdout",
          "text": [
            "id_right,text_right\n",
            "1781133,it was used in landing craft during world war ii and is used today in private boats and training facilities the 6 71 is an inline six cylinder diesel engine the 71 refers to the displacement in cubic inches of each cylinder the firing order of the engine is 1 5 3 6 2 4 the engine s compression ratio is 18 7 1 with a 4 250 inch bore and a 5 00 inch stroke the engine weighs and is 54 inches long 29 inches wide and 41 inches tall at 2 100 revolutions per minute the engine is capable of producing 230 horse power 172 kilowatts v type versions of the 71 series were developed in 1957 the 6 71 is a two stroke engine as the engine will not naturally aspirate air is provided via a roots type blower however on the 6 71t models a turbocharger and a supercharger are utilized fuel is provided by unit injectors one per cylinder the amount of fuel injected into the engine is controlled by the engine s governor the engine cooling is via liquid in a water jacket in a boat cool external water is pumped into the engine\n",
            "2426736,after rejecting an offer from cambridge university she moved to london in 1954 working in a mayfair advertising agency while moonlighting as a hat check girl in the night club le club contemporain while working at the royal college of art she met the painter frank bowling when he was still a student there they married in 1960 and had one son kitchen was one of the women interviewed by nell dunn in talking to women 1965 after divorcing bowling in the late sixties kitchen went on to live with and later marry the writer dulan barber continuing to write novels she also began writing non fiction with biographies of patrick geddes and gerard manley hopkins in later life she bought a house in barnwell northamptonshire which became the subject of her book of the same name she died on 23 november 2005 the novelist bessie head was a close friend the pair corresponded from 1969 until head s death in 1986 on a range of subjects including head s novel a question of power\n",
            "2224122,mat zan coached kuala lumpur fa in 1999 and won malaysia fa cup in 1999 and charity cup in 2000 in 2001 mat zan then move as head coach of terengganu fa and he won the 2001 malaysia cup 2001 malaysia charity cup and second place in malaysia league with plus f c in 2008 he took 2nd place in premier league and automatically promoted to malaysia super league in 2012 he comeback with terengganu fa and go through to fa cup semi finals and round two in afc cup in 2015 mat zan move to melaka united and won 2015 malaysia fam league and won 2016 malaysia premier league after his contract was not renewed with melaka at the end of 2016 he was appointed as new head coach of airasia allstars fc which was renamed as petaling jaya rangers f c for the 2017 season he signed a 1 year contract with negeri sembilan form the 2019 season mat zan also coached the club side of malaysia u 21 squad harimau muda b who won plate winner singapore starhub league cup thanj nien newspaper cup vietnam 3rd place and hassanal bolkiah cup brunei 3rd place\n",
            "219642,a barcode is a machine readable optical label that contains information about the item to which it is attached in practice qr codes often contain data for a locator identifier or tracker that points to a website or application a qr code uses four standardized encoding modes numeric alphanumeric byte binary and kanji to store data efficiently extensions may also be used the quick response system became popular outside the automotive industry due to its fast readability and greater storage capacity compared to standard upc barcodes applications include product tracking item identification time tracking document management and general marketing a qr code consists of black squares arranged in a square grid on a white background which can be read by an imaging device such as a camera and processed using reed solomon error correction until the image can be appropriately interpreted the required data is then extracted from patterns that are present in both horizontal and vertical components of the image the qr code system was invented in 1994 by the japanese company denso wave its purpose was to track vehicles during manufacturing it was designed to allow high speed component scanning qr codes are now used in a much\n"
          ]
        }
      ]
    },
    {
      "cell_type": "code",
      "source": [
        "import pandas as pd"
      ],
      "metadata": {
        "id": "UMjPfXQoKF0X"
      },
      "execution_count": 7,
      "outputs": []
    },
    {
      "cell_type": "code",
      "source": [
        "df = pd.read_csv(\"./wikIR1k/documents.csv\")"
      ],
      "metadata": {
        "id": "rl7G76CfKH7I"
      },
      "execution_count": 8,
      "outputs": []
    },
    {
      "cell_type": "code",
      "source": [
        "words = df['text_right'].str.split()\n",
        "\n",
        "# Convert the list of words into a Pandas Series\n",
        "words = pd.Series(words)\n",
        "\n",
        "# Count the frequency of each word\n",
        "word_counts = words.value_counts()\n",
        "\n",
        "# Return the top 30 words\n",
        "top_30 = word_counts.head(30)\n",
        "\n",
        "print(top_30)"
      ],
      "metadata": {
        "id": "xpMqrlSEKRp_"
      },
      "execution_count": null,
      "outputs": []
    }
  ]
}