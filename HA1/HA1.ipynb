{
  "cells": [
    {
      "cell_type": "markdown",
      "metadata": {
        "colab_type": "text",
        "id": "view-in-github"
      },
      "source": [
        "<a href=\"https://colab.research.google.com/github/weeebdev/ds509/blob/master/HA1.ipynb\" target=\"_parent\"><img src=\"https://colab.research.google.com/assets/colab-badge.svg\" alt=\"Open In Colab\"/></a>"
      ]
    },
    {
      "cell_type": "code",
      "execution_count": 1,
      "metadata": {
        "id": "t1GCAlqDBY1z"
      },
      "outputs": [],
      "source": [
        "# !git clone --recurse-submodules https://github.com/getalp/wikIR.git\n",
        "# !pip install -r ./wikIR/requirements.txt\n",
        "# !pip install git+https://github.com/dorianbrown/rank_bm25.git\n",
        "# !git clone https://github.com/NTMC-Community/MatchZoo.git\n",
        "# !cd MatchZoo && python ./setup.py install\n",
        "# !cd wikIR && python wikiextractor/WikiExtractor.py input --output - --bytes 100G --links --quiet --json > output.json"
      ]
    },
    {
      "cell_type": "code",
      "execution_count": 1,
      "metadata": {
        "colab": {
          "base_uri": "https://localhost:8080/"
        },
        "id": "5kp8quVlBlle",
        "outputId": "477365c9-f6a6-48e8-8a76-7a1791b60226"
      },
      "outputs": [
        {
          "name": "stdout",
          "output_type": "stream",
          "text": [
            "Collecting zenodo_get\n",
            "  Downloading zenodo_get-1.3.4-py2.py3-none-any.whl (17 kB)\n",
            "Collecting wget\n",
            "  Downloading wget-3.2.zip (10 kB)\n",
            "  Preparing metadata (setup.py) ... \u001b[?25ldone\n",
            "\u001b[?25hRequirement already satisfied: requests in /home/codespace/.local/lib/python3.10/site-packages (from zenodo_get) (2.28.2)\n",
            "Requirement already satisfied: idna<4,>=2.5 in /home/codespace/.local/lib/python3.10/site-packages (from requests->zenodo_get) (3.4)\n",
            "Requirement already satisfied: charset-normalizer<4,>=2 in /home/codespace/.local/lib/python3.10/site-packages (from requests->zenodo_get) (3.0.1)\n",
            "Requirement already satisfied: urllib3<1.27,>=1.21.1 in /home/codespace/.local/lib/python3.10/site-packages (from requests->zenodo_get) (1.26.14)\n",
            "Requirement already satisfied: certifi>=2017.4.17 in /home/codespace/.local/lib/python3.10/site-packages (from requests->zenodo_get) (2022.12.7)\n",
            "Building wheels for collected packages: wget\n",
            "  Building wheel for wget (setup.py) ... \u001b[?25ldone\n",
            "\u001b[?25h  Created wheel for wget: filename=wget-3.2-py3-none-any.whl size=9674 sha256=19097ad3d0ed0807e889ca2ff9adad29afb37cca0d6589f6feb8ca56d560a703\n",
            "  Stored in directory: /home/codespace/.cache/pip/wheels/46/78/0e/8e5e2b500f83a682c8d7e7ce820638cf99faa894a662f71cf0\n",
            "Successfully built wget\n",
            "Installing collected packages: wget, zenodo_get\n",
            "Successfully installed wget-3.2 zenodo_get-1.3.4\n",
            "\n",
            "\u001b[1m[\u001b[0m\u001b[34;49mnotice\u001b[0m\u001b[1;39;49m]\u001b[0m\u001b[39;49m A new release of pip available: \u001b[0m\u001b[31;49m22.3.1\u001b[0m\u001b[39;49m -> \u001b[0m\u001b[32;49m23.0\u001b[0m\n",
            "\u001b[1m[\u001b[0m\u001b[34;49mnotice\u001b[0m\u001b[1;39;49m]\u001b[0m\u001b[39;49m To update, run: \u001b[0m\u001b[32;49mpython -m pip install --upgrade pip\u001b[0m\n"
          ]
        }
      ],
      "source": [
        "!pip3 install zenodo_get"
      ]
    },
    {
      "cell_type": "code",
      "execution_count": 2,
      "metadata": {
        "colab": {
          "base_uri": "https://localhost:8080/"
        },
        "id": "orLToOPfCegD",
        "outputId": "d080dac6-e356-4219-fa96-81a2d4e6c961"
      },
      "outputs": [
        {
          "name": "stdout",
          "output_type": "stream",
          "text": [
            "Title: ENwikIR1k\n",
            "Keywords: \n",
            "Publication date: 2019-11-18\n",
            "DOI: 10.5281/zenodo.3565761\n",
            "Total size: 157.4 MB\n",
            "\n",
            "Link: https://zenodo.org/api/files/3cb30747-c60b-47b2-b3a3-33f546356f99/wikIR1k.zip   size: 157.4 MB\n",
            "100% [..................................................] 164995559 / 164995559\n",
            "Checksum is correct. (554299bca984640cb283d6ba55753608)\n",
            "All files have been downloaded.\n"
          ]
        }
      ],
      "source": [
        "!zenodo_get 10.5281/zenodo.3565761"
      ]
    },
    {
      "cell_type": "code",
      "execution_count": 6,
      "metadata": {
        "colab": {
          "base_uri": "https://localhost:8080/"
        },
        "id": "OIQ7jc8PCpOU",
        "outputId": "8e277f46-90c9-425d-a72e-15cc8636c6c5"
      },
      "outputs": [
        {
          "name": "stdout",
          "output_type": "stream",
          "text": [
            "Archive:  wikIR1k.zip\n",
            "   creating: wikIR1k/\n",
            "  inflating: wikIR1k/documents.csv   \n",
            "   creating: wikIR1k/training/\n",
            "  inflating: wikIR1k/training/queries.csv  \n",
            "  inflating: wikIR1k/training/qrels  \n",
            "  inflating: wikIR1k/training/BM25.res  \n",
            "  inflating: wikIR1k/training/BM25.qrels.csv  \n",
            "  inflating: wikIR1k/training/BM25.metrics.json  \n",
            "   creating: wikIR1k/validation/\n",
            "  inflating: wikIR1k/validation/queries.csv  \n",
            "  inflating: wikIR1k/validation/qrels  \n",
            "  inflating: wikIR1k/validation/BM25.res  \n",
            "  inflating: wikIR1k/validation/BM25.qrels.csv  \n",
            "  inflating: wikIR1k/validation/BM25.metrics.json  \n",
            "   creating: wikIR1k/test/\n",
            "  inflating: wikIR1k/test/queries.csv  \n",
            "  inflating: wikIR1k/test/qrels      \n",
            "  inflating: wikIR1k/test/BM25.res   \n",
            "  inflating: wikIR1k/test/BM25.qrels.csv  \n",
            "  inflating: wikIR1k/test/BM25.metrics.json  \n"
          ]
        }
      ],
      "source": [
        "!unzip wikIR1k.zip"
      ]
    },
    {
      "cell_type": "code",
      "execution_count": 2,
      "metadata": {
        "colab": {
          "base_uri": "https://localhost:8080/"
        },
        "id": "SNT5dOQbELmP",
        "outputId": "ceeb8eae-59fc-48b3-87ac-daf655a1c073"
      },
      "outputs": [
        {
          "name": "stdout",
          "output_type": "stream",
          "text": [
            "--2023-01-31 05:33:13--  https://gist.githubusercontent.com/sebleier/554280/raw/7e0e4a1ce04c2bb7bd41089c9821dbcf6d0c786c/NLTK's%2520list%2520of%2520english%2520stopwords\n",
            "Resolving gist.githubusercontent.com (gist.githubusercontent.com)... 185.199.111.133, 185.199.110.133, 185.199.109.133, ...\n",
            "Connecting to gist.githubusercontent.com (gist.githubusercontent.com)|185.199.111.133|:443... connected.\n",
            "HTTP request sent, awaiting response... 200 OK\n",
            "Length: 622 [text/plain]\n",
            "Saving to: ‘NLTK's list of english stopwords.1’\n",
            "\n",
            "NLTK's list of engl 100%[===================>]     622  --.-KB/s    in 0s      \n",
            "\n",
            "2023-01-31 05:33:13 (28.4 MB/s) - ‘NLTK's list of english stopwords.1’ saved [622/622]\n",
            "\n"
          ]
        }
      ],
      "source": [
        "!wget \"https://gist.githubusercontent.com/sebleier/554280/raw/7e0e4a1ce04c2bb7bd41089c9821dbcf6d0c786c/NLTK's%2520list%2520of%2520english%2520stopwords\""
      ]
    },
    {
      "cell_type": "code",
      "execution_count": 7,
      "metadata": {
        "id": "UMjPfXQoKF0X"
      },
      "outputs": [],
      "source": [
        "import pandas as pd"
      ]
    },
    {
      "cell_type": "code",
      "execution_count": 29,
      "metadata": {
        "id": "rl7G76CfKH7I"
      },
      "outputs": [],
      "source": [
        "df = pd.read_csv(\"./wikIR1k/documents.csv\", nrows=1000)"
      ]
    },
    {
      "cell_type": "code",
      "execution_count": 27,
      "metadata": {},
      "outputs": [
        {
          "data": {
            "text/html": [
              "<div>\n",
              "<style scoped>\n",
              "    .dataframe tbody tr th:only-of-type {\n",
              "        vertical-align: middle;\n",
              "    }\n",
              "\n",
              "    .dataframe tbody tr th {\n",
              "        vertical-align: top;\n",
              "    }\n",
              "\n",
              "    .dataframe thead th {\n",
              "        text-align: right;\n",
              "    }\n",
              "</style>\n",
              "<table border=\"1\" class=\"dataframe\">\n",
              "  <thead>\n",
              "    <tr style=\"text-align: right;\">\n",
              "      <th></th>\n",
              "      <th>id_right</th>\n",
              "      <th>text_right</th>\n",
              "    </tr>\n",
              "  </thead>\n",
              "  <tbody>\n",
              "    <tr>\n",
              "      <th>0</th>\n",
              "      <td>1781133</td>\n",
              "      <td>it was used in landing craft during world war ...</td>\n",
              "    </tr>\n",
              "    <tr>\n",
              "      <th>1</th>\n",
              "      <td>2426736</td>\n",
              "      <td>after rejecting an offer from cambridge univer...</td>\n",
              "    </tr>\n",
              "    <tr>\n",
              "      <th>2</th>\n",
              "      <td>2224122</td>\n",
              "      <td>mat zan coached kuala lumpur fa in 1999 and wo...</td>\n",
              "    </tr>\n",
              "    <tr>\n",
              "      <th>3</th>\n",
              "      <td>219642</td>\n",
              "      <td>a barcode is a machine readable optical label ...</td>\n",
              "    </tr>\n",
              "    <tr>\n",
              "      <th>4</th>\n",
              "      <td>1728654</td>\n",
              "      <td>since the subordination of the monarchy under ...</td>\n",
              "    </tr>\n",
              "  </tbody>\n",
              "</table>\n",
              "</div>"
            ],
            "text/plain": [
              "   id_right                                         text_right\n",
              "0   1781133  it was used in landing craft during world war ...\n",
              "1   2426736  after rejecting an offer from cambridge univer...\n",
              "2   2224122  mat zan coached kuala lumpur fa in 1999 and wo...\n",
              "3    219642  a barcode is a machine readable optical label ...\n",
              "4   1728654  since the subordination of the monarchy under ..."
            ]
          },
          "execution_count": 27,
          "metadata": {},
          "output_type": "execute_result"
        }
      ],
      "source": [
        "df.head(5)"
      ]
    },
    {
      "cell_type": "code",
      "execution_count": 30,
      "metadata": {
        "id": "xpMqrlSEKRp_"
      },
      "outputs": [
        {
          "name": "stdout",
          "output_type": "stream",
          "text": [
            "Number of documents: 999\n",
            "Average document length in words: 198.208\n",
            "Collection size in words: 198208\n",
            "Number of unique words: 120677\n",
            "Average word length: 4.7978890862124635\n",
            "Average unique word length: 1.3844145943303199\n"
          ]
        }
      ],
      "source": [
        "# Convert the text column to lowercase\n",
        "df['text_right'] = df['text_right'].str.lower()\n",
        "\n",
        "# Split the text into individual words\n",
        "words = df['text_right'].str.split()\n",
        "\n",
        "# Calculate the number of documents\n",
        "num_docs = df.shape[0] - 1\n",
        "\n",
        "# Calculate the average document length in words\n",
        "avg_doc_len = words.apply(len).mean()\n",
        "\n",
        "# Calculate the collection size in words\n",
        "col_size = words.apply(len).sum()\n",
        "\n",
        "# Calculate the number of unique words\n",
        "num_unique_words = words.apply(pd.Series).nunique().sum()\n",
        "\n",
        "# Calculate the average word length\n",
        "avg_word_len = sum(map(len, words.sum())) / col_size\n",
        "\n",
        "# Calculate the average unique word length\n",
        "avg_unique_word_len = sum(map(len, set(words.sum()))) / num_unique_words\n",
        "\n",
        "# Print the collection stats\n",
        "print(\"Number of documents:\", num_docs)\n",
        "print(\"Average document length in words:\", avg_doc_len)\n",
        "print(\"Collection size in words:\", col_size)\n",
        "print(\"Number of unique words:\", num_unique_words)\n",
        "print(\"Average word length:\", avg_word_len)\n",
        "print(\"Average unique word length:\", avg_unique_word_len)\n"
      ]
    },
    {
      "cell_type": "code",
      "execution_count": 36,
      "metadata": {},
      "outputs": [
        {
          "name": "stderr",
          "output_type": "stream",
          "text": [
            "/tmp/ipykernel_26713/3144568843.py:2: FutureWarning: The squeeze argument has been deprecated and will be removed in a future version. Append .squeeze(\"columns\") to the call to squeeze.\n",
            "\n",
            "\n",
            "  stopwords = pd.read_csv(\n"
          ]
        }
      ],
      "source": [
        "# load stopwords\n",
        "stopwords = pd.read_csv(\n",
        "    \"NLTK's list of english stopwords\", header=None, squeeze=True)"
      ]
    },
    {
      "cell_type": "code",
      "execution_count": 53,
      "metadata": {},
      "outputs": [
        {
          "name": "stdout",
          "output_type": "stream",
          "text": [
            "the      14485\n",
            "of        7006\n",
            "in        6361\n",
            "and       6160\n",
            "a         4135\n",
            "to        3858\n",
            "was       2941\n",
            "is        1897\n",
            "he        1848\n",
            "as        1722\n",
            "for       1627\n",
            "on        1618\n",
            "with      1424\n",
            "by        1402\n",
            "at        1305\n",
            "s         1289\n",
            "his       1169\n",
            "from      1139\n",
            "it        1105\n",
            "that       785\n",
            "an         741\n",
            "which      590\n",
            "are        590\n",
            "first      546\n",
            "were       533\n",
            "has        527\n",
            "also       525\n",
            "she        446\n",
            "its        445\n",
            "after      441\n",
            "dtype: int64\n"
          ]
        }
      ],
      "source": [
        "allWords = words.sum()\n",
        "\n",
        "# Convert the list of words into a Pandas Series\n",
        "allWords = pd.Series(allWords)\n",
        "\n",
        "# Count the frequency of each word\n",
        "word_counts = allWords.value_counts()\n",
        "\n",
        "# Return the top 30 words\n",
        "top_30 = word_counts.head(30)\n",
        "\n",
        "print(top_30)\n"
      ]
    },
    {
      "cell_type": "code",
      "execution_count": 54,
      "metadata": {},
      "outputs": [
        {
          "data": {
            "text/plain": [
              "the      14485\n",
              "of        7006\n",
              "in        6361\n",
              "and       6160\n",
              "a         4135\n",
              "to        3858\n",
              "was       2941\n",
              "is        1897\n",
              "he        1848\n",
              "as        1722\n",
              "for       1627\n",
              "on        1618\n",
              "with      1424\n",
              "by        1402\n",
              "at        1305\n",
              "s         1289\n",
              "his       1169\n",
              "from      1139\n",
              "it        1105\n",
              "that       785\n",
              "an         741\n",
              "which      590\n",
              "are        590\n",
              "first      546\n",
              "were       533\n",
              "has        527\n",
              "also       525\n",
              "she        446\n",
              "its        445\n",
              "after      441\n",
              "dtype: int64"
            ]
          },
          "execution_count": 54,
          "metadata": {},
          "output_type": "execute_result"
        }
      ],
      "source": [
        "# compare the top 30 words with the stopwords\n",
        "top_30[~top_30.isin(stopwords)]"
      ]
    },
    {
      "cell_type": "code",
      "execution_count": 51,
      "metadata": {},
      "outputs": [],
      "source": [
        "import matplotlib.pyplot as plt\n"
      ]
    },
    {
      "cell_type": "code",
      "execution_count": 55,
      "metadata": {},
      "outputs": [
        {
          "data": {
            "image/png": "[encoded data removed]",
            "text/plain": [
              "<Figure size 640x480 with 1 Axes>"
            ]
          },
          "metadata": {},
          "output_type": "display_data"
        }
      ],
      "source": [
        "# Get the rank and frequency of each word\n",
        "ranks = range(1, len(word_counts) + 1)\n",
        "frequencies = word_counts\n",
        "\n",
        "# Plot the rank and log frequency in log-log coordinates\n",
        "plt.loglog(ranks, frequencies)\n",
        "plt.xlabel('Rank')\n",
        "plt.ylabel('Frequency')\n",
        "plt.title(\"Zipf's Law Plot\")\n",
        "plt.show()\n"
      ]
    },
    {
      "cell_type": "code",
      "execution_count": 57,
      "metadata": {},
      "outputs": [
        {
          "data": {
            "image/png": "[encoded data removed]",
            "text/plain": [
              "<Figure size 640x480 with 1 Axes>"
            ]
          },
          "metadata": {},
          "output_type": "display_data"
        }
      ],
      "source": [
        "# Initialize the size of the text processed and the number of unique words\n",
        "text_size = 0\n",
        "unique_words = set()\n",
        "\n",
        "# Initialize a list to store the counts of unique words\n",
        "unique_word_counts = []\n",
        "\n",
        "# Iterate over the words\n",
        "for word in allWords: \n",
        "    text_size += 1\n",
        "    unique_words.add(word)\n",
        "    unique_word_counts.append(len(unique_words))\n",
        "\n",
        "# Plot the logarithm of the size of the text processed and the logarithm of the number of unique words\n",
        "plt.loglog(range(text_size), unique_word_counts)\n",
        "plt.xlabel('Size of text processed (log)')\n",
        "plt.ylabel('Number of unique words (log)')\n",
        "plt.title(\"Heaps' Law Plot\")\n",
        "plt.show()"
      ]
    }
  ],
  "metadata": {
    "colab": {
      "authorship_tag": "ABX9TyPiTYVVyScQEDqNzfYcNegR",
      "include_colab_link": true,
      "provenance": [],
      "toc_visible": true
    },
    "kernelspec": {
      "display_name": "Python 3",
      "language": "python",
      "name": "python3"
    },
    "language_info": {
      "codemirror_mode": {
        "name": "ipython",
        "version": 3
      },
      "file_extension": ".py",
      "mimetype": "text/x-python",
      "name": "python",
      "nbconvert_exporter": "python",
      "pygments_lexer": "ipython3",
      "version": "3.10.4"
    },
    "vscode": {
      "interpreter": {
        "hash": "3ad933181bd8a04b432d3370b9dc3b0662ad032c4dfaa4e4f1596c548f763858"
      }
    }
  },
  "nbformat": 4,
  "nbformat_minor": 0
}
